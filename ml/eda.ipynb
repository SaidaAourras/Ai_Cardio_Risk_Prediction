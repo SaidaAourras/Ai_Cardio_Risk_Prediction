{
 "cells": [
  {
   "cell_type": "code",
   "execution_count": 61,
   "id": "df15ce19",
   "metadata": {},
   "outputs": [],
   "source": [
    "import pandas as pd\n",
    "import matplotlib.pyplot as plt\n",
    "from sklearn.preprocessing import LabelEncoder ,StandardScaler\n",
    "from sklearn.pipeline import Pipeline\n",
    "from sklearn.linear_model import LogisticRegression\n",
    "from sklearn.ensemble import RandomForestClassifier\n",
    "from sklearn.model_selection import train_test_split, GridSearchCV\n",
    "from sklearn.metrics import f1_score\n",
    "import joblib\n",
    "import seaborn as sns\n",
    "\n"
   ]
  },
  {
   "cell_type": "code",
   "execution_count": 62,
   "id": "2f4c0c40",
   "metadata": {},
   "outputs": [
    {
     "name": "stdout",
     "output_type": "stream",
     "text": [
      "<class 'pandas.core.frame.DataFrame'>\n",
      "RangeIndex: 1319 entries, 0 to 1318\n",
      "Data columns (total 9 columns):\n",
      " #   Column         Non-Null Count  Dtype  \n",
      "---  ------         --------------  -----  \n",
      " 0   age            1319 non-null   int64  \n",
      " 1   gender         1319 non-null   int64  \n",
      " 2   status         1319 non-null   object \n",
      " 3   pressurehight  1319 non-null   int64  \n",
      " 4   pressurelow    1319 non-null   int64  \n",
      " 5   glucose        1319 non-null   float64\n",
      " 6   kcm            1319 non-null   float64\n",
      " 7   troponin       1319 non-null   float64\n",
      " 8   impluse        1319 non-null   int64  \n",
      "dtypes: float64(3), int64(5), object(1)\n",
      "memory usage: 92.9+ KB\n"
     ]
    }
   ],
   "source": [
    "data=pd.read_csv(\"data.csv\")\n",
    "data.info()"
   ]
  },
  {
   "cell_type": "code",
   "execution_count": 63,
   "id": "a03c892c",
   "metadata": {},
   "outputs": [
    {
     "data": {
      "text/html": [
       "<div>\n",
       "<style scoped>\n",
       "    .dataframe tbody tr th:only-of-type {\n",
       "        vertical-align: middle;\n",
       "    }\n",
       "\n",
       "    .dataframe tbody tr th {\n",
       "        vertical-align: top;\n",
       "    }\n",
       "\n",
       "    .dataframe thead th {\n",
       "        text-align: right;\n",
       "    }\n",
       "</style>\n",
       "<table border=\"1\" class=\"dataframe\">\n",
       "  <thead>\n",
       "    <tr style=\"text-align: right;\">\n",
       "      <th></th>\n",
       "      <th>age</th>\n",
       "      <th>gender</th>\n",
       "      <th>pressurehight</th>\n",
       "      <th>pressurelow</th>\n",
       "      <th>glucose</th>\n",
       "      <th>kcm</th>\n",
       "      <th>troponin</th>\n",
       "      <th>impluse</th>\n",
       "    </tr>\n",
       "  </thead>\n",
       "  <tbody>\n",
       "    <tr>\n",
       "      <th>count</th>\n",
       "      <td>1319.000000</td>\n",
       "      <td>1319.000000</td>\n",
       "      <td>1319.000000</td>\n",
       "      <td>1319.000000</td>\n",
       "      <td>1319.000000</td>\n",
       "      <td>1319.000000</td>\n",
       "      <td>1319.000000</td>\n",
       "      <td>1319.000000</td>\n",
       "    </tr>\n",
       "    <tr>\n",
       "      <th>mean</th>\n",
       "      <td>56.191812</td>\n",
       "      <td>0.659591</td>\n",
       "      <td>127.170584</td>\n",
       "      <td>72.269143</td>\n",
       "      <td>146.634344</td>\n",
       "      <td>15.274306</td>\n",
       "      <td>0.360942</td>\n",
       "      <td>78.336619</td>\n",
       "    </tr>\n",
       "    <tr>\n",
       "      <th>std</th>\n",
       "      <td>13.647315</td>\n",
       "      <td>0.474027</td>\n",
       "      <td>26.122720</td>\n",
       "      <td>14.033924</td>\n",
       "      <td>74.923045</td>\n",
       "      <td>46.327083</td>\n",
       "      <td>1.154568</td>\n",
       "      <td>51.630270</td>\n",
       "    </tr>\n",
       "    <tr>\n",
       "      <th>min</th>\n",
       "      <td>14.000000</td>\n",
       "      <td>0.000000</td>\n",
       "      <td>42.000000</td>\n",
       "      <td>38.000000</td>\n",
       "      <td>35.000000</td>\n",
       "      <td>0.321000</td>\n",
       "      <td>0.001000</td>\n",
       "      <td>20.000000</td>\n",
       "    </tr>\n",
       "    <tr>\n",
       "      <th>25%</th>\n",
       "      <td>47.000000</td>\n",
       "      <td>0.000000</td>\n",
       "      <td>110.000000</td>\n",
       "      <td>62.000000</td>\n",
       "      <td>98.000000</td>\n",
       "      <td>1.655000</td>\n",
       "      <td>0.006000</td>\n",
       "      <td>64.000000</td>\n",
       "    </tr>\n",
       "    <tr>\n",
       "      <th>50%</th>\n",
       "      <td>58.000000</td>\n",
       "      <td>1.000000</td>\n",
       "      <td>124.000000</td>\n",
       "      <td>72.000000</td>\n",
       "      <td>116.000000</td>\n",
       "      <td>2.850000</td>\n",
       "      <td>0.014000</td>\n",
       "      <td>74.000000</td>\n",
       "    </tr>\n",
       "    <tr>\n",
       "      <th>75%</th>\n",
       "      <td>65.000000</td>\n",
       "      <td>1.000000</td>\n",
       "      <td>143.000000</td>\n",
       "      <td>81.000000</td>\n",
       "      <td>169.500000</td>\n",
       "      <td>5.805000</td>\n",
       "      <td>0.085500</td>\n",
       "      <td>85.000000</td>\n",
       "    </tr>\n",
       "    <tr>\n",
       "      <th>max</th>\n",
       "      <td>103.000000</td>\n",
       "      <td>1.000000</td>\n",
       "      <td>223.000000</td>\n",
       "      <td>154.000000</td>\n",
       "      <td>541.000000</td>\n",
       "      <td>300.000000</td>\n",
       "      <td>10.300000</td>\n",
       "      <td>1111.000000</td>\n",
       "    </tr>\n",
       "  </tbody>\n",
       "</table>\n",
       "</div>"
      ],
      "text/plain": [
       "               age       gender  pressurehight  pressurelow      glucose  \\\n",
       "count  1319.000000  1319.000000    1319.000000  1319.000000  1319.000000   \n",
       "mean     56.191812     0.659591     127.170584    72.269143   146.634344   \n",
       "std      13.647315     0.474027      26.122720    14.033924    74.923045   \n",
       "min      14.000000     0.000000      42.000000    38.000000    35.000000   \n",
       "25%      47.000000     0.000000     110.000000    62.000000    98.000000   \n",
       "50%      58.000000     1.000000     124.000000    72.000000   116.000000   \n",
       "75%      65.000000     1.000000     143.000000    81.000000   169.500000   \n",
       "max     103.000000     1.000000     223.000000   154.000000   541.000000   \n",
       "\n",
       "               kcm     troponin      impluse  \n",
       "count  1319.000000  1319.000000  1319.000000  \n",
       "mean     15.274306     0.360942    78.336619  \n",
       "std      46.327083     1.154568    51.630270  \n",
       "min       0.321000     0.001000    20.000000  \n",
       "25%       1.655000     0.006000    64.000000  \n",
       "50%       2.850000     0.014000    74.000000  \n",
       "75%       5.805000     0.085500    85.000000  \n",
       "max     300.000000    10.300000  1111.000000  "
      ]
     },
     "execution_count": 63,
     "metadata": {},
     "output_type": "execute_result"
    }
   ],
   "source": [
    "# print(data.head(5))\n",
    "data.describe()\n"
   ]
  },
  {
   "cell_type": "markdown",
   "id": "b946ad13",
   "metadata": {},
   "source": [
    "## Vérifier la redondance , les valeurs null et les champs vides"
   ]
  },
  {
   "cell_type": "code",
   "execution_count": 64,
   "id": "fa1dd15d",
   "metadata": {},
   "outputs": [
    {
     "name": "stdout",
     "output_type": "stream",
     "text": [
      "age              0\n",
      "gender           0\n",
      "status           0\n",
      "pressurehight    0\n",
      "pressurelow      0\n",
      "glucose          0\n",
      "kcm              0\n",
      "troponin         0\n",
      "impluse          0\n",
      "dtype: int64\n",
      "age              0\n",
      "gender           0\n",
      "status           0\n",
      "pressurehight    0\n",
      "pressurelow      0\n",
      "glucose          0\n",
      "kcm              0\n",
      "troponin         0\n",
      "impluse          0\n",
      "dtype: int64\n",
      "0\n"
     ]
    }
   ],
   "source": [
    "print(data.isnull().sum())\n",
    "print(data.isna().sum())\n",
    "print(data.duplicated().sum())"
   ]
  },
  {
   "cell_type": "code",
   "execution_count": 65,
   "id": "d29a6ae7",
   "metadata": {},
   "outputs": [
    {
     "data": {
      "text/plain": [
       "status\n",
       "positive    810\n",
       "negative    509\n",
       "Name: count, dtype: int64"
      ]
     },
     "execution_count": 65,
     "metadata": {},
     "output_type": "execute_result"
    }
   ],
   "source": [
    "data['status'].value_counts()"
   ]
  },
  {
   "cell_type": "markdown",
   "id": "32ddbb58",
   "metadata": {},
   "source": [
    "### Encodage du Cible"
   ]
  },
  {
   "cell_type": "code",
   "execution_count": 66,
   "id": "a93fd958",
   "metadata": {},
   "outputs": [
    {
     "data": {
      "text/html": [
       "<div>\n",
       "<style scoped>\n",
       "    .dataframe tbody tr th:only-of-type {\n",
       "        vertical-align: middle;\n",
       "    }\n",
       "\n",
       "    .dataframe tbody tr th {\n",
       "        vertical-align: top;\n",
       "    }\n",
       "\n",
       "    .dataframe thead th {\n",
       "        text-align: right;\n",
       "    }\n",
       "</style>\n",
       "<table border=\"1\" class=\"dataframe\">\n",
       "  <thead>\n",
       "    <tr style=\"text-align: right;\">\n",
       "      <th></th>\n",
       "      <th>age</th>\n",
       "      <th>gender</th>\n",
       "      <th>status</th>\n",
       "      <th>pressurehight</th>\n",
       "      <th>pressurelow</th>\n",
       "      <th>glucose</th>\n",
       "      <th>kcm</th>\n",
       "      <th>troponin</th>\n",
       "      <th>impluse</th>\n",
       "    </tr>\n",
       "  </thead>\n",
       "  <tbody>\n",
       "    <tr>\n",
       "      <th>0</th>\n",
       "      <td>64</td>\n",
       "      <td>1</td>\n",
       "      <td>0</td>\n",
       "      <td>160</td>\n",
       "      <td>83</td>\n",
       "      <td>160.0</td>\n",
       "      <td>1.80</td>\n",
       "      <td>0.012</td>\n",
       "      <td>66</td>\n",
       "    </tr>\n",
       "    <tr>\n",
       "      <th>1</th>\n",
       "      <td>21</td>\n",
       "      <td>1</td>\n",
       "      <td>1</td>\n",
       "      <td>98</td>\n",
       "      <td>46</td>\n",
       "      <td>296.0</td>\n",
       "      <td>6.75</td>\n",
       "      <td>1.060</td>\n",
       "      <td>94</td>\n",
       "    </tr>\n",
       "    <tr>\n",
       "      <th>2</th>\n",
       "      <td>55</td>\n",
       "      <td>1</td>\n",
       "      <td>0</td>\n",
       "      <td>160</td>\n",
       "      <td>77</td>\n",
       "      <td>270.0</td>\n",
       "      <td>1.99</td>\n",
       "      <td>0.003</td>\n",
       "      <td>64</td>\n",
       "    </tr>\n",
       "    <tr>\n",
       "      <th>3</th>\n",
       "      <td>64</td>\n",
       "      <td>1</td>\n",
       "      <td>1</td>\n",
       "      <td>120</td>\n",
       "      <td>55</td>\n",
       "      <td>270.0</td>\n",
       "      <td>13.87</td>\n",
       "      <td>0.122</td>\n",
       "      <td>70</td>\n",
       "    </tr>\n",
       "    <tr>\n",
       "      <th>4</th>\n",
       "      <td>55</td>\n",
       "      <td>1</td>\n",
       "      <td>0</td>\n",
       "      <td>112</td>\n",
       "      <td>65</td>\n",
       "      <td>300.0</td>\n",
       "      <td>1.08</td>\n",
       "      <td>0.003</td>\n",
       "      <td>64</td>\n",
       "    </tr>\n",
       "    <tr>\n",
       "      <th>...</th>\n",
       "      <td>...</td>\n",
       "      <td>...</td>\n",
       "      <td>...</td>\n",
       "      <td>...</td>\n",
       "      <td>...</td>\n",
       "      <td>...</td>\n",
       "      <td>...</td>\n",
       "      <td>...</td>\n",
       "      <td>...</td>\n",
       "    </tr>\n",
       "    <tr>\n",
       "      <th>1314</th>\n",
       "      <td>44</td>\n",
       "      <td>1</td>\n",
       "      <td>0</td>\n",
       "      <td>122</td>\n",
       "      <td>67</td>\n",
       "      <td>204.0</td>\n",
       "      <td>1.63</td>\n",
       "      <td>0.006</td>\n",
       "      <td>94</td>\n",
       "    </tr>\n",
       "    <tr>\n",
       "      <th>1315</th>\n",
       "      <td>66</td>\n",
       "      <td>1</td>\n",
       "      <td>1</td>\n",
       "      <td>125</td>\n",
       "      <td>55</td>\n",
       "      <td>149.0</td>\n",
       "      <td>1.33</td>\n",
       "      <td>0.172</td>\n",
       "      <td>84</td>\n",
       "    </tr>\n",
       "    <tr>\n",
       "      <th>1316</th>\n",
       "      <td>45</td>\n",
       "      <td>1</td>\n",
       "      <td>1</td>\n",
       "      <td>168</td>\n",
       "      <td>104</td>\n",
       "      <td>96.0</td>\n",
       "      <td>1.24</td>\n",
       "      <td>4.250</td>\n",
       "      <td>85</td>\n",
       "    </tr>\n",
       "    <tr>\n",
       "      <th>1317</th>\n",
       "      <td>54</td>\n",
       "      <td>1</td>\n",
       "      <td>1</td>\n",
       "      <td>117</td>\n",
       "      <td>68</td>\n",
       "      <td>443.0</td>\n",
       "      <td>5.80</td>\n",
       "      <td>0.359</td>\n",
       "      <td>58</td>\n",
       "    </tr>\n",
       "    <tr>\n",
       "      <th>1318</th>\n",
       "      <td>51</td>\n",
       "      <td>1</td>\n",
       "      <td>1</td>\n",
       "      <td>157</td>\n",
       "      <td>79</td>\n",
       "      <td>134.0</td>\n",
       "      <td>50.89</td>\n",
       "      <td>1.770</td>\n",
       "      <td>94</td>\n",
       "    </tr>\n",
       "  </tbody>\n",
       "</table>\n",
       "<p>1319 rows × 9 columns</p>\n",
       "</div>"
      ],
      "text/plain": [
       "      age  gender  status  pressurehight  pressurelow  glucose    kcm  \\\n",
       "0      64       1       0            160           83    160.0   1.80   \n",
       "1      21       1       1             98           46    296.0   6.75   \n",
       "2      55       1       0            160           77    270.0   1.99   \n",
       "3      64       1       1            120           55    270.0  13.87   \n",
       "4      55       1       0            112           65    300.0   1.08   \n",
       "...   ...     ...     ...            ...          ...      ...    ...   \n",
       "1314   44       1       0            122           67    204.0   1.63   \n",
       "1315   66       1       1            125           55    149.0   1.33   \n",
       "1316   45       1       1            168          104     96.0   1.24   \n",
       "1317   54       1       1            117           68    443.0   5.80   \n",
       "1318   51       1       1            157           79    134.0  50.89   \n",
       "\n",
       "      troponin  impluse  \n",
       "0        0.012       66  \n",
       "1        1.060       94  \n",
       "2        0.003       64  \n",
       "3        0.122       70  \n",
       "4        0.003       64  \n",
       "...        ...      ...  \n",
       "1314     0.006       94  \n",
       "1315     0.172       84  \n",
       "1316     4.250       85  \n",
       "1317     0.359       58  \n",
       "1318     1.770       94  \n",
       "\n",
       "[1319 rows x 9 columns]"
      ]
     },
     "execution_count": 66,
     "metadata": {},
     "output_type": "execute_result"
    }
   ],
   "source": [
    "# encoder=OneHotEncoder(sparse_output=False)\n",
    "encoder=LabelEncoder()\n",
    "data['status']=encoder.fit_transform(data['status'])\n",
    "# print(data['status'])\n",
    "data\n",
    "# variable_categorielles = encoder.get_feature_names_out(['status'])\n",
    "# encoded_df = pd.DataFrame(encoded_cat, columns=variable_categorielles)\n",
    "# new_data = data.drop(columns=['status'])\n",
    "# new_data = pd.concat([encoded_df,new_data],axis=1)\n",
    "# print(new_data.head(5).to_string())"
   ]
  },
  {
   "cell_type": "markdown",
   "id": "ff8dac6b",
   "metadata": {},
   "source": [
    "## Visualisation"
   ]
  },
  {
   "cell_type": "markdown",
   "id": "c5a7b9b8",
   "metadata": {},
   "source": [
    "#### correlation pour les variables numeriques"
   ]
  },
  {
   "cell_type": "code",
   "execution_count": 74,
   "id": "b4ad6f6c",
   "metadata": {},
   "outputs": [
    {
     "data": {
      "image/png": "[encoded data removed]",
      "text/plain": [
       "<Figure size 800x600 with 2 Axes>"
      ]
     },
     "metadata": {},
     "output_type": "display_data"
    }
   ],
   "source": [
    "#matrice correlation\n",
    "# num_col = data.drop(columns=['status']) a supprimer \n",
    "num_col = data.drop(columns=['gender'])\n",
    "corr_matrix = num_col.corr()\n",
    "plt.figure(figsize=(8,6))\n",
    "sns.heatmap(corr_matrix, annot=True, cmap='coolwarm', linewidths=0.5)\n",
    "plt.title('matrice de corrélation')\n",
    "plt.show()"
   ]
  },
  {
   "cell_type": "markdown",
   "id": "54c8d416",
   "metadata": {},
   "source": [
    "### Visulation des variables categoriels"
   ]
  },
  {
   "cell_type": "code",
   "execution_count": null,
   "id": "932e8879",
   "metadata": {},
   "outputs": [],
   "source": [
    "sns.countplot()"
   ]
  },
  {
   "cell_type": "markdown",
   "id": "dad3b0f1",
   "metadata": {},
   "source": [
    "## Split et Normalisation des donnees"
   ]
  },
  {
   "cell_type": "code",
   "execution_count": 68,
   "id": "bf8545bf",
   "metadata": {},
   "outputs": [],
   "source": [
    "X=data.drop(columns=['status'])\n",
    "y=data['status']\n",
    "\n",
    "X_train, X_test, y_train, y_test = train_test_split(X,y,test_size=0.2,random_state=42)\n",
    "\n",
    "num_cols = ['age','pressurehight','pressurelow','glucose','kcm','troponin','impluse']\n",
    "scaler = StandardScaler()\n",
    "\n",
    "X_train[num_cols] = scaler.fit_transform(X_train[num_cols])\n",
    "X_test[num_cols] = scaler.transform(X_test[num_cols])"
   ]
  },
  {
   "cell_type": "markdown",
   "id": "6588419c",
   "metadata": {},
   "source": [
    "## Entrainement du model"
   ]
  },
  {
   "cell_type": "code",
   "execution_count": 72,
   "id": "5cb37376",
   "metadata": {},
   "outputs": [
    {
     "name": "stdout",
     "output_type": "stream",
     "text": [
      "F1-score:  0.9815950920245399\n"
     ]
    },
    {
     "data": {
      "text/plain": [
       "['model_cardio.pkl']"
      ]
     },
     "execution_count": 72,
     "metadata": {},
     "output_type": "execute_result"
    }
   ],
   "source": [
    "# print(data.head())\n",
    "\n",
    "pipeline = Pipeline( steps=[\n",
    "    ('model',RandomForestClassifier(class_weight='balanced'))\n",
    "])\n",
    "\n",
    "param_grid=[\n",
    "    {\n",
    "        'model__n_estimators':[100,200],\n",
    "        'model__max_depth':[5,10,None],\n",
    "        'model__min_samples_split':[2,5]\n",
    "    }\n",
    "]\n",
    "\n",
    "grid_search=GridSearchCV(\n",
    "    pipeline,\n",
    "    param_grid,\n",
    "    cv=5,\n",
    "    n_jobs=-1\n",
    ")\n",
    "\n",
    "grid_search.fit(X_train,y_train)\n",
    "\n",
    "model = grid_search.best_estimator_\n",
    "\n",
    "# print(\"best_estimator_: \",grid_search.best_estimator_)\n",
    "# print(\"best_params_: \",grid_search.best_params_)\n",
    "# print(\"cv: \",grid_search.best_score_)\n",
    "\n",
    "y_pred = model.predict(X_test)\n",
    "print(\"F1-score: \",f1_score(y_test,y_pred))\n",
    "\n",
    "joblib.dump(grid_search.best_estimator_,'model_cardio.pkl')\n"
   ]
  },
  {
   "cell_type": "code",
   "execution_count": 73,
   "id": "2bd88ecc",
   "metadata": {},
   "outputs": [
    {
     "name": "stdout",
     "output_type": "stream",
     "text": [
      "{'memory': None, 'steps': [('model', RandomForestClassifier(class_weight='balanced'))], 'transform_input': None, 'verbose': False, 'model': RandomForestClassifier(class_weight='balanced'), 'model__bootstrap': True, 'model__ccp_alpha': 0.0, 'model__class_weight': 'balanced', 'model__criterion': 'gini', 'model__max_depth': None, 'model__max_features': 'sqrt', 'model__max_leaf_nodes': None, 'model__max_samples': None, 'model__min_impurity_decrease': 0.0, 'model__min_samples_leaf': 1, 'model__min_samples_split': 2, 'model__min_weight_fraction_leaf': 0.0, 'model__monotonic_cst': None, 'model__n_estimators': 100, 'model__n_jobs': None, 'model__oob_score': False, 'model__random_state': None, 'model__verbose': 0, 'model__warm_start': False}\n"
     ]
    }
   ],
   "source": [
    "model=joblib.load(\"model_cardio.pkl\")\n",
    "# print(model)\n",
    "print(model.get_params())\n"
   ]
  }
 ],
 "metadata": {
  "kernelspec": {
   "display_name": "venv (3.11.5)",
   "language": "python",
   "name": "python3"
  },
  "language_info": {
   "codemirror_mode": {
    "name": "ipython",
    "version": 3
   },
   "file_extension": ".py",
   "mimetype": "text/x-python",
   "name": "python",
   "nbconvert_exporter": "python",
   "pygments_lexer": "ipython3",
   "version": "3.11.5"
  }
 },
 "nbformat": 4,
 "nbformat_minor": 5
}
